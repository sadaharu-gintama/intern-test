{
 "cells": [
  {
   "cell_type": "markdown",
   "id": "4b8af7fd",
   "metadata": {},
   "source": [
    "# Python Test for Interns\n",
    "To test the python/numpy/pandas/matplotlib proficiency of the interns\n",
    "\n",
    "You are allowed to google/search for solutions\n",
    "\n",
    "When you finish coding and want to execute the block of code, please press shift + enter"
   ]
  },
  {
   "cell_type": "markdown",
   "id": "9d3fb50f",
   "metadata": {},
   "source": [
    "# 1. Load the necessary packages\n",
    "Import numpy/pandas/matplotlib here"
   ]
  },
  {
   "cell_type": "code",
   "execution_count": 1,
   "id": "148c07d3",
   "metadata": {},
   "outputs": [],
   "source": [
    "import numpy as np\n",
    "import pandas as pd\n",
    "import matplotlib.pyplot as plt\n",
    "import datetime"
   ]
  },
  {
   "cell_type": "markdown",
   "id": "0428bc6f",
   "metadata": {},
   "source": [
    "# 2. Pandas\n",
    "## 2.1 Read and show data\n",
    "There is a \"Home1_Schedule_PowerRef.csv\" file in the same folder, please use pandas to read in the data file as a dataframe"
   ]
  },
  {
   "cell_type": "code",
   "execution_count": null,
   "id": "498dbcdb",
   "metadata": {},
   "outputs": [],
   "source": [
    "df = #Please write your code here"
   ]
  },
  {
   "cell_type": "markdown",
   "id": "5adb84ca",
   "metadata": {},
   "source": [
    "Show the first 5 rows in the dataframe/ Show the last 10 rows in the dataframe"
   ]
  },
  {
   "cell_type": "code",
   "execution_count": null,
   "id": "1f621e40",
   "metadata": {
    "scrolled": true
   },
   "outputs": [],
   "source": [
    "#Please write your code here"
   ]
  },
  {
   "cell_type": "code",
   "execution_count": null,
   "id": "df5e4532",
   "metadata": {},
   "outputs": [],
   "source": [
    "#Please write your code here"
   ]
  },
  {
   "cell_type": "markdown",
   "id": "caf3a6eb",
   "metadata": {},
   "source": [
    "Show the 10th to 20th row in the dataframe"
   ]
  },
  {
   "cell_type": "code",
   "execution_count": null,
   "id": "5a6fbdea",
   "metadata": {},
   "outputs": [],
   "source": [
    "#Please write your code here"
   ]
  },
  {
   "cell_type": "markdown",
   "id": "cbdd1915",
   "metadata": {},
   "source": [
    "## 2.2 Timestamp\n",
    "\n",
    "Convert column \"Time_epoch_ref\" from epoch time to date time"
   ]
  },
  {
   "cell_type": "code",
   "execution_count": null,
   "id": "a46863b4",
   "metadata": {},
   "outputs": [],
   "source": [
    "df['Time_epoch_ref'] = #Please write your code here"
   ]
  },
  {
   "cell_type": "code",
   "execution_count": null,
   "id": "44efc221",
   "metadata": {},
   "outputs": [],
   "source": [
    "df.head()"
   ]
  },
  {
   "cell_type": "markdown",
   "id": "7ecfe8ef",
   "metadata": {},
   "source": [
    "## 2.3 Dataframe Operation\n",
    "Set \"Time_epoch_ref\" as the index of the dataframe"
   ]
  },
  {
   "cell_type": "code",
   "execution_count": null,
   "id": "80a6a8b4",
   "metadata": {},
   "outputs": [],
   "source": [
    "df = #Please write your code here"
   ]
  },
  {
   "cell_type": "code",
   "execution_count": null,
   "id": "060557b8",
   "metadata": {},
   "outputs": [],
   "source": [
    "df.head()"
   ]
  },
  {
   "cell_type": "markdown",
   "id": "d577f870",
   "metadata": {},
   "source": [
    "drop column \"Power_EV_kW_ref\""
   ]
  },
  {
   "cell_type": "code",
   "execution_count": null,
   "id": "c27521c6",
   "metadata": {},
   "outputs": [],
   "source": [
    "df = #Please write your code here"
   ]
  },
  {
   "cell_type": "code",
   "execution_count": null,
   "id": "2654e9aa",
   "metadata": {
    "scrolled": true
   },
   "outputs": [],
   "source": [
    "df.head()"
   ]
  },
  {
   "cell_type": "markdown",
   "id": "ce148de7",
   "metadata": {},
   "source": [
    "Select column \"Power_AC_kW_ref\" and create a pandas series"
   ]
  },
  {
   "cell_type": "code",
   "execution_count": null,
   "id": "2012604e",
   "metadata": {},
   "outputs": [],
   "source": [
    "ac = #Please write your code here"
   ]
  },
  {
   "cell_type": "code",
   "execution_count": null,
   "id": "1eb3fc32",
   "metadata": {},
   "outputs": [],
   "source": [
    "ac.head()"
   ]
  },
  {
   "cell_type": "markdown",
   "id": "14f78f0d",
   "metadata": {},
   "source": [
    "## 2.4 Iteration & Group through the dataframe\n",
    "Iterate through the dataframe by rows, and add up the values in \"Power_ESS_kW_ref\" column as sum_value"
   ]
  },
  {
   "cell_type": "code",
   "execution_count": null,
   "id": "48f96b59",
   "metadata": {},
   "outputs": [],
   "source": [
    "sum_value = 0."
   ]
  },
  {
   "cell_type": "code",
   "execution_count": null,
   "id": "409487da",
   "metadata": {},
   "outputs": [],
   "source": [
    "#Please write your code here"
   ]
  },
  {
   "cell_type": "code",
   "execution_count": null,
   "id": "d8140250",
   "metadata": {},
   "outputs": [],
   "source": [
    "sum_value"
   ]
  },
  {
   "cell_type": "markdown",
   "id": "b68bece4",
   "metadata": {},
   "source": [
    "calculate the average of all the columns for hour 0 - 23 \n",
    "\n",
    "As an example:\n",
    "\n",
    "|time        |value |\n",
    "|------------|------|\n",
    "|8/17 2:00AM | 10   |\n",
    "|8/19 2:00AM | 5    |\n",
    "|8/20 2:00AM | 0    |\n",
    "|8/20 3:00AM | 50   |\n",
    "|8/21 3:00AM | 16   |\n",
    "\n",
    "The average for hour 2 is (10+5+0)/3 = 5\n",
    "\n",
    "The average for hour 3 is (50+16)/2 = 33"
   ]
  },
  {
   "cell_type": "code",
   "execution_count": null,
   "id": "f5e16ab3",
   "metadata": {},
   "outputs": [],
   "source": [
    "mean_values = #Please write your code here"
   ]
  },
  {
   "cell_type": "code",
   "execution_count": null,
   "id": "26c6b275",
   "metadata": {},
   "outputs": [],
   "source": [
    "mean_values"
   ]
  },
  {
   "cell_type": "markdown",
   "id": "f35ea5f1",
   "metadata": {},
   "source": [
    "## 2.5 Plot\n",
    "Plot the mean values of Power_Unctrl_kW_ref per hour as line and bar plots"
   ]
  },
  {
   "cell_type": "code",
   "execution_count": null,
   "id": "295c3beb",
   "metadata": {},
   "outputs": [],
   "source": [
    "#Please write your code here"
   ]
  },
  {
   "cell_type": "code",
   "execution_count": null,
   "id": "4f73f4d4",
   "metadata": {},
   "outputs": [],
   "source": [
    "#Please write your code here"
   ]
  },
  {
   "cell_type": "markdown",
   "id": "ed61f322",
   "metadata": {},
   "source": [
    "# 3. numpy: \n",
    "## 3.1 Array Operation\n",
    "create an array containing 1,2,3,4,5. Name it np_array1"
   ]
  },
  {
   "cell_type": "code",
   "execution_count": null,
   "id": "5762a15b",
   "metadata": {},
   "outputs": [],
   "source": [
    "np_array1 = #Please write your code here"
   ]
  },
  {
   "cell_type": "markdown",
   "id": "3cf35a46",
   "metadata": {},
   "source": [
    "iterate through np_array1 and print the values"
   ]
  },
  {
   "cell_type": "code",
   "execution_count": null,
   "id": "47d05e63",
   "metadata": {},
   "outputs": [],
   "source": [
    "#Please write your code here"
   ]
  },
  {
   "cell_type": "markdown",
   "id": "fbd4fa7c",
   "metadata": {},
   "source": [
    "Create a new array containing 6,7,8,9,10. Name it np_array2"
   ]
  },
  {
   "cell_type": "code",
   "execution_count": null,
   "id": "3f791035",
   "metadata": {},
   "outputs": [],
   "source": [
    "np_array2 = #Please write your code here"
   ]
  },
  {
   "cell_type": "markdown",
   "id": "a6675e03",
   "metadata": {},
   "source": [
    "Add up the values of np_array1 and np_array2 element-wise and create a new array np_array3, which will be [7,  9, 11, 13, 15]"
   ]
  },
  {
   "cell_type": "code",
   "execution_count": null,
   "id": "c4c6b07d",
   "metadata": {},
   "outputs": [],
   "source": [
    "np_array3 = #Please write your code here"
   ]
  },
  {
   "cell_type": "code",
   "execution_count": null,
   "id": "ba5fb025",
   "metadata": {},
   "outputs": [],
   "source": [
    "np_array3"
   ]
  },
  {
   "cell_type": "markdown",
   "id": "9d4724cf",
   "metadata": {},
   "source": [
    "Add np_array2 to the end of np_array1 and create np_array4, which should be an array with 10 elements [ 1,  2,  3,  4,  5,  6,  7,  8,  9, 10]"
   ]
  },
  {
   "cell_type": "code",
   "execution_count": null,
   "id": "8e91722f",
   "metadata": {},
   "outputs": [],
   "source": [
    "np_array4 = #Please write your code here"
   ]
  },
  {
   "cell_type": "code",
   "execution_count": null,
   "id": "a477d88a",
   "metadata": {},
   "outputs": [],
   "source": [
    "np_array4"
   ]
  },
  {
   "cell_type": "markdown",
   "id": "a87111f0",
   "metadata": {},
   "source": [
    "## 3.2 Slicing\n",
    "print dimension of np_array4; print shape of np_array4"
   ]
  },
  {
   "cell_type": "code",
   "execution_count": null,
   "id": "adbaacc5",
   "metadata": {},
   "outputs": [],
   "source": [
    "#Please write your code here"
   ]
  },
  {
   "cell_type": "code",
   "execution_count": null,
   "id": "0a3c7caa",
   "metadata": {},
   "outputs": [],
   "source": [
    "#Please write your code here"
   ]
  },
  {
   "cell_type": "markdown",
   "id": "0aaf7151",
   "metadata": {},
   "source": [
    "print the 3rd - 5th elements in np_array4"
   ]
  },
  {
   "cell_type": "code",
   "execution_count": null,
   "id": "59103940",
   "metadata": {},
   "outputs": [],
   "source": [
    "#Please write your code here"
   ]
  },
  {
   "cell_type": "markdown",
   "id": "ffae1bc4",
   "metadata": {},
   "source": [
    "print the last 4 elements in np_array4"
   ]
  },
  {
   "cell_type": "code",
   "execution_count": null,
   "id": "583c8025",
   "metadata": {},
   "outputs": [],
   "source": [
    "#Please write your code here"
   ]
  },
  {
   "cell_type": "markdown",
   "id": "60b6b9e5",
   "metadata": {},
   "source": [
    "## 3.3 Data Type\n",
    "check the data type of np_array4"
   ]
  },
  {
   "cell_type": "code",
   "execution_count": null,
   "id": "c2de2ec7",
   "metadata": {},
   "outputs": [],
   "source": [
    "#Please write your code here"
   ]
  },
  {
   "cell_type": "markdown",
   "id": "9cd02a00",
   "metadata": {},
   "source": [
    "convert np_array3 to float values"
   ]
  },
  {
   "cell_type": "code",
   "execution_count": null,
   "id": "fb5ed885",
   "metadata": {},
   "outputs": [],
   "source": [
    "np_array3 = #Please write your code here"
   ]
  },
  {
   "cell_type": "code",
   "execution_count": null,
   "id": "a6254d90",
   "metadata": {},
   "outputs": [],
   "source": [
    "np_array3"
   ]
  },
  {
   "cell_type": "markdown",
   "id": "66a11784",
   "metadata": {},
   "source": [
    "## 3.4 Index search\n",
    "Search for index of element 5 in np_array4"
   ]
  },
  {
   "cell_type": "code",
   "execution_count": null,
   "id": "7b0819a0",
   "metadata": {},
   "outputs": [],
   "source": [
    "#Please write your code here"
   ]
  },
  {
   "cell_type": "code",
   "execution_count": null,
   "id": "4e9e0a9e",
   "metadata": {},
   "outputs": [],
   "source": []
  }
 ],
 "metadata": {
  "kernelspec": {
   "display_name": "Python 3 (ipykernel)",
   "language": "python",
   "name": "python3"
  },
  "language_info": {
   "codemirror_mode": {
    "name": "ipython",
    "version": 3
   },
   "file_extension": ".py",
   "mimetype": "text/x-python",
   "name": "python",
   "nbconvert_exporter": "python",
   "pygments_lexer": "ipython3",
   "version": "3.9.12"
  }
 },
 "nbformat": 4,
 "nbformat_minor": 5
}
